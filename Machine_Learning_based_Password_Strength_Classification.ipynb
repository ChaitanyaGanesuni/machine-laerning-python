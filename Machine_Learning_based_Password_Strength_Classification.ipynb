{
  "nbformat": 4,
  "nbformat_minor": 0,
  "metadata": {
    "colab": {
      "name": "Machine Learning based Password Strength Classification.ipynb",
      "provenance": [],
      "authorship_tag": "ABX9TyNmuawOWYN04WDEvqI/M+UZ",
      "include_colab_link": true
    },
    "kernelspec": {
      "name": "python3",
      "display_name": "Python 3"
    },
    "language_info": {
      "name": "python"
    }
  },
  "cells": [
    {
      "cell_type": "markdown",
      "metadata": {
        "id": "view-in-github",
        "colab_type": "text"
      },
      "source": [
        "<a href=\"https://colab.research.google.com/github/chaitu-ml/Machine-learning-python/blob/master/Machine_Learning_based_Password_Strength_Classification.ipynb\" target=\"_parent\"><img src=\"https://colab.research.google.com/assets/colab-badge.svg\" alt=\"Open In Colab\"/></a>"
      ]
    },
    {
      "cell_type": "markdown",
      "metadata": {
        "id": "FOjghGFqBY8n"
      },
      "source": [
        "# ***Machine Learning based Password strength checking***"
      ]
    },
    {
      "cell_type": "code",
      "metadata": {
        "id": "PN82iXNG8boQ"
      },
      "source": [
        "import numpy as np\n",
        "import random\n",
        "from sklearn.feature_extraction.text import TfidfVectorizer\n",
        "import pandas as pd\n",
        "from sklearn.model_selection import train_test_split\n",
        "from sklearn.linear_model import LogisticRegression"
      ],
      "execution_count": 23,
      "outputs": []
    },
    {
      "cell_type": "code",
      "metadata": {
        "id": "0lTicz068fZG"
      },
      "source": [
        "def getTokens(inputString):\n",
        "\ttokens = []\n",
        "\tfor i in inputString:\n",
        "\t\ttokens.append(i)\n",
        "\treturn tokens"
      ],
      "execution_count": 24,
      "outputs": []
    },
    {
      "cell_type": "code",
      "metadata": {
        "id": "-ZbZ0CUM8wjj"
      },
      "source": [
        "filepath = '/content/sample_data.csv'\n",
        "data = pd.read_csv(filepath,',',error_bad_lines=False)\n",
        "\n",
        "data = pd.DataFrame(data)\n",
        "passwords = np.array(data)"
      ],
      "execution_count": 25,
      "outputs": []
    },
    {
      "cell_type": "code",
      "metadata": {
        "id": "tN1KRTmp84ff"
      },
      "source": [
        "random.shuffle(passwords) \n",
        "y = [d[1] for d in passwords] \n",
        "allpasswords= [d[0] for d in passwords] "
      ],
      "execution_count": 26,
      "outputs": []
    },
    {
      "cell_type": "code",
      "metadata": {
        "id": "set24T4c9BN3"
      },
      "source": [
        "vectorizer = TfidfVectorizer(tokenizer=getTokens) \n",
        "X = vectorizer.fit_transform(allpasswords)"
      ],
      "execution_count": 27,
      "outputs": []
    },
    {
      "cell_type": "code",
      "metadata": {
        "id": "0CKA-L2E9EIf"
      },
      "source": [
        "X_train, X_test, y_train, y_test = train_test_split(X, y, test_size=0.20, random_state=42)  #splitting"
      ],
      "execution_count": 28,
      "outputs": []
    },
    {
      "cell_type": "code",
      "metadata": {
        "colab": {
          "base_uri": "https://localhost:8080/"
        },
        "id": "ElkUXeHf9HhW",
        "outputId": "7e69ad94-86ab-4754-a1f5-38fc409d8d35"
      },
      "source": [
        "lgs = LogisticRegression(penalty='l2',multi_class='ovr') \n",
        "lgs.fit(X_train, y_train) #training\n",
        "print(lgs.score(X_test, y_test))  #testing"
      ],
      "execution_count": 29,
      "outputs": [
        {
          "output_type": "stream",
          "text": [
            "0.795935296557445\n"
          ],
          "name": "stdout"
        }
      ]
    },
    {
      "cell_type": "code",
      "metadata": {
        "colab": {
          "base_uri": "https://localhost:8080/"
        },
        "id": "9Cx6Hc0t9Ltr",
        "outputId": "c6cedf0e-2a8a-425f-f5d7-b12ee8ac62b8"
      },
      "source": [
        "X_predict = ['123456','abcdef','0000000','chaitanya','Chaitanya@#&20','Chaitu20','abababab','password','admin','8688893737','20052001']\n",
        "X_predict = vectorizer.transform(X_predict)\n",
        "y_Predict = lgs.predict(X_predict)\n",
        "print (y_Predict)"
      ],
      "execution_count": 31,
      "outputs": [
        {
          "output_type": "stream",
          "text": [
            "['1' '1' '0' '1' '2' '1' '0' '1' '0' '1' '1']\n"
          ],
          "name": "stdout"
        }
      ]
    },
    {
      "cell_type": "code",
      "metadata": {
        "colab": {
          "base_uri": "https://localhost:8080/"
        },
        "id": "tPzZ5dLt-47w",
        "outputId": "fd17086a-d0fe-4924-bea0-f2893e6eefef"
      },
      "source": [
        "y_pred = lgs.predict(X_test)\n",
        "y_pred"
      ],
      "execution_count": 32,
      "outputs": [
        {
          "output_type": "execute_result",
          "data": {
            "text/plain": [
              "array(['1', '1', '1', ..., '1', '1', '1'], dtype='<U23')"
            ]
          },
          "metadata": {
            "tags": []
          },
          "execution_count": 32
        }
      ]
    },
    {
      "cell_type": "markdown",
      "metadata": {
        "id": "M_ZvSSf5Bk3Z"
      },
      "source": [
        "***confusion matrix and accuracy*** "
      ]
    },
    {
      "cell_type": "code",
      "metadata": {
        "colab": {
          "base_uri": "https://localhost:8080/"
        },
        "id": "cYl3aQJ1-_8P",
        "outputId": "38007e86-28ba-411b-975d-bb9443325541"
      },
      "source": [
        "from sklearn.metrics import confusion_matrix,accuracy_score\n",
        "cm = confusion_matrix(y_test,y_pred)\n",
        "print(cm)\n",
        "print(accuracy_score(y_test,y_pred))"
      ],
      "execution_count": 33,
      "outputs": [
        {
          "output_type": "stream",
          "text": [
            "[[  34  278    0]\n",
            " [  22 1743   33]\n",
            " [   2  157  142]]\n",
            "0.795935296557445\n"
          ],
          "name": "stdout"
        }
      ]
    },
    {
      "cell_type": "markdown",
      "metadata": {
        "id": "eO0GoGjtCRXr"
      },
      "source": [
        "**classification report**"
      ]
    },
    {
      "cell_type": "code",
      "metadata": {
        "colab": {
          "base_uri": "https://localhost:8080/"
        },
        "id": "Z5KFNCeF_HiB",
        "outputId": "167d8b11-e36b-4655-b155-312b4cafad5f"
      },
      "source": [
        "from sklearn.metrics import classification_report\n",
        "print(classification_report(y_test,y_pred))"
      ],
      "execution_count": 34,
      "outputs": [
        {
          "output_type": "stream",
          "text": [
            "              precision    recall  f1-score   support\n",
            "\n",
            "           0       0.59      0.11      0.18       312\n",
            "           1       0.80      0.97      0.88      1798\n",
            "           2       0.81      0.47      0.60       301\n",
            "\n",
            "    accuracy                           0.80      2411\n",
            "   macro avg       0.73      0.52      0.55      2411\n",
            "weighted avg       0.77      0.80      0.75      2411\n",
            "\n"
          ],
          "name": "stdout"
        }
      ]
    },
    {
      "cell_type": "markdown",
      "metadata": {
        "id": "6Db3QStzCatI"
      },
      "source": [
        "**confusion matrix**"
      ]
    },
    {
      "cell_type": "code",
      "metadata": {
        "colab": {
          "base_uri": "https://localhost:8080/",
          "height": 279
        },
        "id": "sEmBkiTk_LsI",
        "outputId": "05698cc5-34c7-4c9c-a4b4-9cda271d517c"
      },
      "source": [
        "import matplotlib.pyplot as plt\n",
        "from sklearn.metrics import plot_confusion_matrix\n",
        "from sklearn.svm import SVC\n",
        "clf = SVC(random_state=0)\n",
        "clf.fit(X_train, y_train)\n",
        "plot_confusion_matrix(clf, X_test, y_test)\n",
        "plt.show()"
      ],
      "execution_count": 35,
      "outputs": [
        {
          "output_type": "display_data",
          "data": {
            "image/png": "[encoded data removed]",
            "text/plain": [
              "<Figure size 432x288 with 2 Axes>"
            ]
          },
          "metadata": {
            "tags": [],
            "needs_background": "light"
          }
        }
      ]
    }
  ]
}
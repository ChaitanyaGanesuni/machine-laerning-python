{
  "nbformat": 4,
  "nbformat_minor": 0,
  "metadata": {
    "colab": {
      "name": "Untitled13.ipynb",
      "provenance": [],
      "authorship_tag": "ABX9TyNQb/0nSJ7Tk1zOh8kygoD+",
      "include_colab_link": true
    },
    "kernelspec": {
      "name": "python3",
      "display_name": "Python 3"
    }
  },
  "cells": [
    {
      "cell_type": "markdown",
      "metadata": {
        "id": "view-in-github",
        "colab_type": "text"
      },
      "source": [
        "<a href=\"https://colab.research.google.com/github/chaitu-ml/PLOTTING-BATMAN-WITH-PYTHON/blob/master/Untitled13.ipynb\" target=\"_parent\"><img src=\"https://colab.research.google.com/assets/colab-badge.svg\" alt=\"Open In Colab\"/></a>"
      ]
    },
    {
      "cell_type": "code",
      "metadata": {
        "colab": {
          "base_uri": "https://localhost:8080/",
          "height": 221
        },
        "id": "Qme7-CmRblHy",
        "outputId": "5e89dcb2-695c-4552-dd6a-dcecbcd7ffec"
      },
      "source": [
        "%matplotlib inline\r\n",
        "import numpy as np\r\n",
        "import pandas as pd\r\n",
        "import matplotlib.pyplot as plt\r\n",
        "plt.rcParams['figure.figsize'] = (20.0,10.0)\r\n",
        "\r\n",
        "data = pd.read_csv('/content/headbrain.csv')\r\n",
        "print(data.shape)\r\n",
        "data.head()"
      ],
      "execution_count": 1,
      "outputs": [
        {
          "output_type": "stream",
          "text": [
            "(237, 4)\n"
          ],
          "name": "stdout"
        },
        {
          "output_type": "execute_result",
          "data": {
            "text/html": [
              "<div>\n",
              "<style scoped>\n",
              "    .dataframe tbody tr th:only-of-type {\n",
              "        vertical-align: middle;\n",
              "    }\n",
              "\n",
              "    .dataframe tbody tr th {\n",
              "        vertical-align: top;\n",
              "    }\n",
              "\n",
              "    .dataframe thead th {\n",
              "        text-align: right;\n",
              "    }\n",
              "</style>\n",
              "<table border=\"1\" class=\"dataframe\">\n",
              "  <thead>\n",
              "    <tr style=\"text-align: right;\">\n",
              "      <th></th>\n",
              "      <th>Gender</th>\n",
              "      <th>Age Range</th>\n",
              "      <th>Head Size(cm^3)</th>\n",
              "      <th>Brain Weight(grams)</th>\n",
              "    </tr>\n",
              "  </thead>\n",
              "  <tbody>\n",
              "    <tr>\n",
              "      <th>0</th>\n",
              "      <td>1</td>\n",
              "      <td>1</td>\n",
              "      <td>4512</td>\n",
              "      <td>1530</td>\n",
              "    </tr>\n",
              "    <tr>\n",
              "      <th>1</th>\n",
              "      <td>1</td>\n",
              "      <td>1</td>\n",
              "      <td>3738</td>\n",
              "      <td>1297</td>\n",
              "    </tr>\n",
              "    <tr>\n",
              "      <th>2</th>\n",
              "      <td>1</td>\n",
              "      <td>1</td>\n",
              "      <td>4261</td>\n",
              "      <td>1335</td>\n",
              "    </tr>\n",
              "    <tr>\n",
              "      <th>3</th>\n",
              "      <td>1</td>\n",
              "      <td>1</td>\n",
              "      <td>3777</td>\n",
              "      <td>1282</td>\n",
              "    </tr>\n",
              "    <tr>\n",
              "      <th>4</th>\n",
              "      <td>1</td>\n",
              "      <td>1</td>\n",
              "      <td>4177</td>\n",
              "      <td>1590</td>\n",
              "    </tr>\n",
              "  </tbody>\n",
              "</table>\n",
              "</div>"
            ],
            "text/plain": [
              "   Gender  Age Range  Head Size(cm^3)  Brain Weight(grams)\n",
              "0       1          1             4512                 1530\n",
              "1       1          1             3738                 1297\n",
              "2       1          1             4261                 1335\n",
              "3       1          1             3777                 1282\n",
              "4       1          1             4177                 1590"
            ]
          },
          "metadata": {
            "tags": []
          },
          "execution_count": 1
        }
      ]
    },
    {
      "cell_type": "code",
      "metadata": {
        "id": "u92pl5YCb0hQ"
      },
      "source": [
        "#collecting x and y\r\n",
        "X=data['Head Size(cm^3)'].values\r\n",
        "Y=data['Brain Weight(grams)'].values"
      ],
      "execution_count": 11,
      "outputs": []
    },
    {
      "cell_type": "code",
      "metadata": {
        "colab": {
          "base_uri": "https://localhost:8080/"
        },
        "id": "R3cDCgptb4VN",
        "outputId": "3cb6022c-6404-447f-c93a-6cc15374a1e2"
      },
      "source": [
        "mean_x = np.mean(X)\r\n",
        "mean_y = np.mean(Y)\r\n",
        "\r\n",
        "n= len(X)\r\n",
        "\r\n",
        "number = 0\r\n",
        "denom = 0\r\n",
        "\r\n",
        "for i in range(n):\r\n",
        "    number += (X[i]-mean_x)*(Y[i]-mean_y)\r\n",
        "    denom +=  (X[i]-mean_x)**2\r\n",
        "\r\n",
        "b1 = number/denom\r\n",
        "b0 = mean_y-(b1*mean_x)\r\n",
        "\r\n",
        "print(b1,b0)"
      ],
      "execution_count": 12,
      "outputs": [
        {
          "output_type": "stream",
          "text": [
            "0.26342933948939945 325.57342104944223\n"
          ],
          "name": "stdout"
        }
      ]
    },
    {
      "cell_type": "code",
      "metadata": {
        "colab": {
          "base_uri": "https://localhost:8080/",
          "height": 279
        },
        "id": "-hRaz0pHb_wX",
        "outputId": "c57b8d98-080f-41dd-da90-29d6918a0f92"
      },
      "source": [
        "max_x = np.max(X)+100\r\n",
        "min_x = np.min(X)-100\r\n",
        "\r\n",
        "x = np.linspace(min_x,max_x,1000)\r\n",
        "y = b0 + b1 * x\r\n",
        "\r\n",
        "plt.plot(x,y,color='#000080',label='Regrassion line')\r\n",
        "plt.scatter(X,Y,color='#FFFF00',label='Scatter plot')\r\n",
        "\r\n",
        "plt.xlabel('Head Size(cm^3)')\r\n",
        "plt.ylabel('Brain Weight(grams)')\r\n",
        "plt.legend()\r\n",
        "plt.show()"
      ],
      "execution_count": 13,
      "outputs": [
        {
          "output_type": "display_data",
          "data": {
            "image/png": "[encoded data removed]",
            "text/plain": [
              "<Figure size 432x288 with 1 Axes>"
            ]
          },
          "metadata": {
            "tags": [],
            "needs_background": "light"
          }
        }
      ]
    },
    {
      "cell_type": "markdown",
      "metadata": {
        "id": "AtaJeHeEk1e-"
      },
      "source": [
        "**Least square method**"
      ]
    },
    {
      "cell_type": "code",
      "metadata": {
        "colab": {
          "base_uri": "https://localhost:8080/"
        },
        "id": "LdkZyGJxfv4h",
        "outputId": "c0b7f06f-7f83-463a-bc37-ba2d7c89b161"
      },
      "source": [
        "ss_t = 0\r\n",
        "ss_r = 0\r\n",
        "for i in range(n):\r\n",
        "     y_pred = b0 + b1 * X[i]\r\n",
        "     ss_t += (Y[i]-mean_y)**2\r\n",
        "     ss_r += (Y[i]-y_pred)**2\r\n",
        "r2 = 1-(ss_r/ss_t)\r\n",
        "print(r2) "
      ],
      "execution_count": 14,
      "outputs": [
        {
          "output_type": "stream",
          "text": [
            "0.6393117199570003\n"
          ],
          "name": "stdout"
        }
      ]
    }
  ]
}